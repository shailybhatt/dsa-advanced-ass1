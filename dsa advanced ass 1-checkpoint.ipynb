{
 "cells": [
  {
   "cell_type": "code",
   "execution_count": 3,
   "id": "69057353",
   "metadata": {},
   "outputs": [
    {
     "name": "stdout",
     "output_type": "stream",
     "text": [
      "Our initial LinkedList was : \n",
      "1 -> 2 -> -1 -> 3 -> None\n",
      "Our resultant LinkedList after deleting elements whose sum is equal to 0 :\n",
      "2 -> 3 -> none\n"
     ]
    }
   ],
   "source": [
    "#1. Delete the elements in an linked list whose sum is equal to zero\n",
    "\n",
    "class LinkedList:\n",
    "    def __init__(self, data=0, next=None):\n",
    "        self.data = data\n",
    "        self.next = next\n",
    "\n",
    "    def display(self):\n",
    "        current = self\n",
    "        while current:\n",
    "            print(current.data, end=\" -> \")\n",
    "            current = current.next\n",
    "        print(\"None\")\n",
    "\n",
    "    def delete(self):\n",
    "        self.llist = []\n",
    "        #converting the linked list into an array\n",
    "        temp = self\n",
    "        while temp:\n",
    "            self.llist.append(temp.data)\n",
    "            temp = temp.next\n",
    "        #removing the items from list whose sum is equal to zero\n",
    "        i = 0\n",
    "        while i < len(self.llist):\n",
    "            j = i + 1\n",
    "            while j < len(self.llist):\n",
    "                if self.llist[i] + self.llist[j] == 0:\n",
    "                    del self.llist[j]\n",
    "                    del self.llist[i]\n",
    "                    i = 0  # start from the beginning of the list again\n",
    "                    break\n",
    "                else:\n",
    "                    j += 1\n",
    "            else:\n",
    "                i += 1\n",
    "        return self.llist\n",
    "    def array_to_linked_list(self, arr):\n",
    "    # Create the head node of the linked list\n",
    "        head = LinkedList(arr[0])\n",
    "        current = head\n",
    "        \n",
    "        # Iterate through the rest of the array and create new nodes\n",
    "        for i in range(1, len(arr)):\n",
    "            new_node = LinkedList(arr[i])\n",
    "            current.next = new_node\n",
    "            current = current.next\n",
    "        \n",
    "        return head\n",
    "    \n",
    "# Create a linked list with values 1 -> 2 -> -1 -> 3 -> None\n",
    "head = LinkedList(1, LinkedList(2, LinkedList(-1, LinkedList(3))))\n",
    "\n",
    "print(\"Our initial LinkedList was : \")\n",
    "head.display()\n",
    "\n",
    "#deleting the sum=0 elements from linkedlist\n",
    "deleted = head.delete()\n",
    "result = head.array_to_linked_list(deleted)\n",
    "\n",
    "print(\"Our resultant LinkedList after deleting elements whose sum is equal to 0 :\")\n",
    "current = result\n",
    "while current:\n",
    "    print(current.data, end=\" -> \")\n",
    "    current = current.next\n",
    "print(\"none\")    "
   ]
  },
  {
   "cell_type": "code",
   "execution_count": 4,
   "id": "51671981",
   "metadata": {},
   "outputs": [
    {
     "name": "stdout",
     "output_type": "stream",
     "text": [
      "2 -> 3 -> 2 -> 1 -> 6 -> None\n"
     ]
    }
   ],
   "source": [
    "#2. Reverse a linked list in groups of given size\n",
    "\n",
    "class LinkedList:\n",
    "    def __init__(self, data=0, next=None):\n",
    "        self.data = data\n",
    "        self.next = next\n",
    "\n",
    "def reverse_linkedlist(head, k):\n",
    "    current = head\n",
    "    prev = None\n",
    "    count = 0\n",
    "    while current and count < k:\n",
    "        next_node = current.next\n",
    "        current.next = prev\n",
    "        prev = current\n",
    "        current = next_node\n",
    "        count+=1\n",
    "    if next_node and count >= k:\n",
    "        head.next = reverse_linkedlist(next_node, k)\n",
    "    else:\n",
    "        head.next = next_node\n",
    "    return prev\n",
    "\n",
    "        \n",
    "head = LinkedList(3, LinkedList(2, LinkedList(1, LinkedList(2, LinkedList(6)))))\n",
    "\n",
    "result = reverse_linkedlist(head, 2)\n",
    "\n",
    "temp = result\n",
    "while temp:\n",
    "    print(temp.data, end=' -> ')\n",
    "    temp = temp.next\n",
    "print(\"None\")"
   ]
  },
  {
   "cell_type": "code",
   "execution_count": 5,
   "id": "1eeec097",
   "metadata": {},
   "outputs": [
    {
     "name": "stdout",
     "output_type": "stream",
     "text": [
      "1 -> a -> 2 -> b -> 3 -> c -> 4 -> d -> None\n"
     ]
    }
   ],
   "source": [
    "#3. Merge a linked list into another linked list at alternate positions.\n",
    "\n",
    "class LinkedList:\n",
    "    def __init__(self, val=0, next=None) -> None:\n",
    "        self.val = val\n",
    "        self.next = next\n",
    "\n",
    "    def merge_linked_list(head1, head2):\n",
    "        linked_head = LinkedList(None)\n",
    "        linked_tail = linked_head\n",
    "\n",
    "        while head1 and head2:\n",
    "            linked_tail.next = head1\n",
    "            linked_tail = linked_tail.next\n",
    "            head1 = head1.next\n",
    "\n",
    "            linked_tail.next = head2\n",
    "            linked_tail = linked_tail.next\n",
    "            head2 = head2.next\n",
    "\n",
    "        if head1:\n",
    "            linked_tail.next = head1\n",
    "\n",
    "        if head2:\n",
    "            linked_tail.next = head2\n",
    "\n",
    "        return linked_head.next\n",
    "    \n",
    "head1 = LinkedList(1,LinkedList(2, LinkedList(3, LinkedList(4))))\n",
    "head2 = LinkedList('a',LinkedList('b', LinkedList('c', LinkedList('d'))))\n",
    "\n",
    "result = LinkedList.merge_linked_list(head1, head2)\n",
    "\n",
    "temp = result\n",
    "while temp:\n",
    "    print(temp.val, end=' -> ')\n",
    "    temp = temp.next\n",
    "print(\"None\")"
   ]
  },
  {
   "cell_type": "code",
   "execution_count": 12,
   "id": "70f032a3",
   "metadata": {},
   "outputs": [
    {
     "name": "stdout",
     "output_type": "stream",
     "text": [
      "Duplicates in Given Array are : \n",
      "[10, 20]\n"
     ]
    }
   ],
   "source": [
    "#5. Find duplicates in an array\n",
    "\n",
    "def findDuplicates(nums):\n",
    "        count = {}\n",
    "        output = []\n",
    "        for i in nums:\n",
    "            count[i] = count.get(i, 0)+1\n",
    "\n",
    "        for key , value in count.items():\n",
    "              if value > 1:\n",
    "                    output.append(key)\n",
    "        return output\n",
    "\n",
    "my_array = array.array('i', [10,20,30,5,15,10,25,20])\n",
    "\n",
    "print(\"Duplicates in Given Array are : \")\n",
    "print(findDuplicates(my_array))"
   ]
  },
  {
   "cell_type": "code",
   "execution_count": 7,
   "id": "5ccbe0a5",
   "metadata": {},
   "outputs": [
    {
     "name": "stdout",
     "output_type": "stream",
     "text": [
      "The Kth Largest number is Array is 5 and Kth smallest is 2\n"
     ]
    }
   ],
   "source": [
    "#6. Find the Kth largest and Kth smallest number in an array\n",
    "import array\n",
    "\n",
    "def findKthLargest(nums, k: int):\n",
    "    num = sorted(nums, reverse=True)\n",
    "    return num[k-1]\n",
    "\n",
    "def findKthSmallest(nums, k):\n",
    "    num = sorted(nums)\n",
    "    return num[k-1]\n",
    "\n",
    "nums = array.array('i', [3,2,1,5,6,4])\n",
    "k = 2\n",
    "large = findKthLargest(nums, k)\n",
    "small = findKthSmallest(nums, k)\n",
    "\n",
    "print(f'The Kth Largest number is Array is {large} and Kth smallest is {small}')"
   ]
  },
  {
   "cell_type": "code",
   "execution_count": 8,
   "id": "afda806c",
   "metadata": {},
   "outputs": [
    {
     "name": "stdout",
     "output_type": "stream",
     "text": [
      "array('i', [-3, -6, -1, 5, 2, 4])\n"
     ]
    }
   ],
   "source": [
    "#7. Move all the negative elements to one side of the array\n",
    "\n",
    "import array\n",
    "def move_negative(arr):\n",
    "    left = 0\n",
    "    right = len(arr)-1\n",
    "\n",
    "    while left <= right:\n",
    "        if arr[left] < 0:\n",
    "            left+=1\n",
    "        elif arr[right] >=0:\n",
    "            right-=1\n",
    "        else:\n",
    "            arr[left], arr[right] = arr[right], arr[left]\n",
    "            left+=1\n",
    "            right-=1\n",
    "            \n",
    "    return arr\n",
    "\n",
    "arr = array.array('i', [-3,2,-1,5,-6,4])\n",
    "\n",
    "print(move_negative(arr))"
   ]
  },
  {
   "cell_type": "code",
   "execution_count": 9,
   "id": "af82fa6c",
   "metadata": {},
   "outputs": [
    {
     "name": "stdout",
     "output_type": "stream",
     "text": [
      "Our Reversed string is : dlrowolleh\n"
     ]
    }
   ],
   "source": [
    "#8. Reverse a string using a stack data structure\n",
    "\n",
    "def reverse_string(string):\n",
    "    stack = []\n",
    "    reversed_string = \"\"\n",
    "    for char in string:\n",
    "        stack.append(char)\n",
    "\n",
    "    \n",
    "    while stack:\n",
    "        reversed_string += stack.pop()\n",
    "\n",
    "    return reversed_string\n",
    "\n",
    "string = 'helloworld'\n",
    "result = reverse_string(string)\n",
    "    \n",
    "print('Our Reversed string is :', result)"
   ]
  },
  {
   "cell_type": "code",
   "execution_count": 10,
   "id": "08fcf86d",
   "metadata": {},
   "outputs": [
    {
     "name": "stdout",
     "output_type": "stream",
     "text": [
      "25\n"
     ]
    }
   ],
   "source": [
    "#9. Evaluate a postfix expression using stack\n",
    "\n",
    "def evaluate(expr):\n",
    "    stack = []\n",
    "    operator = ['+','-','*','/']\n",
    "    for symbol in expr:\n",
    "        if symbol.isdigit():\n",
    "            stack.append(int(symbol))\n",
    "        else:\n",
    "            operand1 = stack.pop()\n",
    "            operand2 = stack.pop()\n",
    "            result = 0\n",
    "            if symbol == '+':\n",
    "                result = operand1 + operand2\n",
    "            elif symbol == '-':\n",
    "                result = operand1 - operand2\n",
    "            elif symbol == '*':\n",
    "                result = operand1 * operand2\n",
    "            elif symbol == '/':\n",
    "                result = operand1 / operand2\n",
    "\n",
    "            stack.append(result)\n",
    "\n",
    "    return stack[0]\n",
    "\n",
    "result = evaluate('523+*')\n",
    "print(result)"
   ]
  },
  {
   "cell_type": "code",
   "execution_count": 11,
   "id": "cb877a0c",
   "metadata": {},
   "outputs": [
    {
     "name": "stdout",
     "output_type": "stream",
     "text": [
      "1\n",
      "2\n"
     ]
    }
   ],
   "source": [
    "#10. Implement a queue using the stack data structure\n",
    "\n",
    "class Queue_Stack:\n",
    "    def __init__(self):\n",
    "        self.inbox = []\n",
    "        self.outbox = []\n",
    "\n",
    "# enqueing elements in a queue\n",
    "    def enqueue(self, val):\n",
    "        self.inbox.append(val)\n",
    "\n",
    "# Dequeing elements in a queue\n",
    "    def dequeue(self):\n",
    "\n",
    "        if not self.outbox:\n",
    "            while self.inbox:\n",
    "                self.outbox.append(self.inbox.pop())\n",
    "\n",
    "        if not self.outbox:\n",
    "            raise IndexError(\"Queue is empty\")\n",
    "\n",
    "        return self.outbox.pop()\n",
    "    \n",
    "\n",
    "obj = Queue_Stack()\n",
    "obj.enqueue(1)\n",
    "obj.enqueue(2)\n",
    "obj.enqueue(3)\n",
    "\n",
    "print(obj.dequeue())    \n",
    "obj.enqueue(4)\n",
    "print(obj.dequeue())  "
   ]
  },
  {
   "cell_type": "code",
   "execution_count": null,
   "id": "4090dfcd",
   "metadata": {},
   "outputs": [],
   "source": []
  }
 ],
 "metadata": {
  "kernelspec": {
   "display_name": "Python 3 (ipykernel)",
   "language": "python",
   "name": "python3"
  },
  "language_info": {
   "codemirror_mode": {
    "name": "ipython",
    "version": 3
   },
   "file_extension": ".py",
   "mimetype": "text/x-python",
   "name": "python",
   "nbconvert_exporter": "python",
   "pygments_lexer": "ipython3",
   "version": "3.9.13"
  }
 },
 "nbformat": 4,
 "nbformat_minor": 5
}
